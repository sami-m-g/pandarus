{
 "cells": [
  {
   "cell_type": "code",
   "execution_count": 1,
   "metadata": {
    "collapsed": true,
    "deletable": true,
    "editable": true
   },
   "outputs": [],
   "source": [
    "%matplotlib inline"
   ]
  },
  {
   "cell_type": "code",
   "execution_count": 2,
   "metadata": {
    "collapsed": true,
    "deletable": true,
    "editable": true
   },
   "outputs": [],
   "source": [
    "from pandarus import *\n",
    "import geopandas as gpd\n",
    "import pandas as pd\n",
    "import rasterio\n",
    "from rasterio import plot as rp\n",
    "import os\n",
    "import json"
   ]
  },
  {
   "cell_type": "code",
   "execution_count": 3,
   "metadata": {
    "collapsed": false,
    "deletable": true,
    "editable": true
   },
   "outputs": [],
   "source": [
    "grid_fp = os.path.join('..', 'tests', 'data', 'grid.geojson')\n",
    "points_fp = os.path.join('..', 'tests', 'data', 'points.geojson')\n",
    "square_fp = os.path.join('..', 'tests', 'data', 'square.geojson')\n",
    "lines_fp = os.path.join('..', 'tests', 'data', 'lines.geojson')\n",
    "range_fp = os.path.join('..', 'tests', 'data', 'range.tif')"
   ]
  },
  {
   "cell_type": "code",
   "execution_count": 4,
   "metadata": {
    "collapsed": false,
    "deletable": true,
    "editable": true
   },
   "outputs": [],
   "source": [
    "grid = gpd.read_file(grid_fp)\n",
    "square =  gpd.read_file(square_fp)\n",
    "points = gpd.read_file(points_fp)\n",
    "lines = gpd.read_file(lines_fp)"
   ]
  },
  {
   "cell_type": "markdown",
   "metadata": {
    "deletable": true,
    "editable": true
   },
   "source": [
    "# Intersecting polygons"
   ]
  },
  {
   "cell_type": "code",
   "execution_count": 5,
   "metadata": {
    "collapsed": false,
    "deletable": true,
    "editable": true
   },
   "outputs": [
    {
     "data": {
      "text/plain": [
       "<matplotlib.axes._subplots.AxesSubplot at 0x11d6e8550>"
      ]
     },
     "execution_count": 5,
     "metadata": {},
     "output_type": "execute_result"
    },
    {
     "data": {
      "image/png": "[encoded data removed]",
      "text/plain": [
       "<matplotlib.figure.Figure at 0x11d6db1d0>"
      ]
     },
     "metadata": {},
     "output_type": "display_data"
    }
   ],
   "source": [
    "axes = grid.plot(color='white', figsize=(6, 6))\n",
    "square.plot(ax=axes, alpha=0.5)"
   ]
  },
  {
   "cell_type": "code",
   "execution_count": 6,
   "metadata": {
    "collapsed": false,
    "deletable": true,
    "editable": true
   },
   "outputs": [
    {
     "data": {
      "text/plain": [
       "{'data': [['single', 'grid cell 1', 3097248058.207055],\n",
       "  ['single', 'grid cell 3', 3097248058.207057],\n",
       "  ['single', 'grid cell 2', 3097719886.041353],\n",
       "  ['single', 'grid cell 0', 3097719886.0413527]],\n",
       " 'metadata': {'first': {'field': 'name',\n",
       "   'filename': 'square.geojson',\n",
       "   'path': '/Users/cmutel/Code/pandarus/tests/data/square.geojson',\n",
       "   'sha256': '6c61f42f10bebd4ad5e94caa8658b2fa09a720666cfce7c91543e5c7dcd4ebb6'},\n",
       "  'second': {'field': 'name',\n",
       "   'filename': 'grid.geojson',\n",
       "   'path': '/Users/cmutel/Code/pandarus/tests/data/grid.geojson',\n",
       "   'sha256': '5f261833d583cf59067d2019bde4d024093e8755aa37ae3d966cc8f4e32da7a0'},\n",
       "  'when': '2017-03-22T10:20:58.685147'}}"
      ]
     },
     "execution_count": 6,
     "metadata": {},
     "output_type": "execute_result"
    }
   ],
   "source": [
    "spatial_result, json_data = intersect(\n",
    "    square_fp,\n",
    "    'name',\n",
    "    grid_fp,\n",
    "    'name',\n",
    "    compress=False\n",
    ")\n",
    "json.load(open(json_data))"
   ]
  },
  {
   "cell_type": "code",
   "execution_count": 7,
   "metadata": {
    "collapsed": false,
    "deletable": true,
    "editable": true
   },
   "outputs": [
    {
     "data": {
      "text/html": [
       "<div>\n",
       "<table border=\"1\" class=\"dataframe\">\n",
       "  <thead>\n",
       "    <tr style=\"text-align: right;\">\n",
       "      <th></th>\n",
       "      <th>from_label</th>\n",
       "      <th>geometry</th>\n",
       "      <th>id</th>\n",
       "      <th>measure</th>\n",
       "      <th>to_label</th>\n",
       "    </tr>\n",
       "  </thead>\n",
       "  <tbody>\n",
       "    <tr>\n",
       "      <th>0</th>\n",
       "      <td>single</td>\n",
       "      <td>(POLYGON ((0.5 1, 0.5 1.5, 1 1.5, 1 1, 0.5 1)))</td>\n",
       "      <td>0</td>\n",
       "      <td>3.097248e+09</td>\n",
       "      <td>grid cell 1</td>\n",
       "    </tr>\n",
       "    <tr>\n",
       "      <th>1</th>\n",
       "      <td>single</td>\n",
       "      <td>(POLYGON ((1 1.5, 1.5 1.5, 1.5 1, 1 1, 1 1.5)))</td>\n",
       "      <td>1</td>\n",
       "      <td>3.097248e+09</td>\n",
       "      <td>grid cell 3</td>\n",
       "    </tr>\n",
       "    <tr>\n",
       "      <th>2</th>\n",
       "      <td>single</td>\n",
       "      <td>(POLYGON ((1.5 1, 1.5 0.5, 1 0.5, 1 1, 1.5 1)))</td>\n",
       "      <td>2</td>\n",
       "      <td>3.097720e+09</td>\n",
       "      <td>grid cell 2</td>\n",
       "    </tr>\n",
       "    <tr>\n",
       "      <th>3</th>\n",
       "      <td>single</td>\n",
       "      <td>(POLYGON ((0.5 0.5, 0.5 1, 1 1, 1 0.5, 0.5 0.5)))</td>\n",
       "      <td>3</td>\n",
       "      <td>3.097720e+09</td>\n",
       "      <td>grid cell 0</td>\n",
       "    </tr>\n",
       "  </tbody>\n",
       "</table>\n",
       "</div>"
      ],
      "text/plain": [
       "  from_label                                           geometry  id  \\\n",
       "0     single    (POLYGON ((0.5 1, 0.5 1.5, 1 1.5, 1 1, 0.5 1)))   0   \n",
       "1     single    (POLYGON ((1 1.5, 1.5 1.5, 1.5 1, 1 1, 1 1.5)))   1   \n",
       "2     single    (POLYGON ((1.5 1, 1.5 0.5, 1 0.5, 1 1, 1.5 1)))   2   \n",
       "3     single  (POLYGON ((0.5 0.5, 0.5 1, 1 1, 1 0.5, 0.5 0.5)))   3   \n",
       "\n",
       "        measure     to_label  \n",
       "0  3.097248e+09  grid cell 1  \n",
       "1  3.097248e+09  grid cell 3  \n",
       "2  3.097720e+09  grid cell 2  \n",
       "3  3.097720e+09  grid cell 0  "
      ]
     },
     "execution_count": 7,
     "metadata": {},
     "output_type": "execute_result"
    }
   ],
   "source": [
    "intersection = gpd.read_file(spatial_result)\n",
    "intersection"
   ]
  },
  {
   "cell_type": "code",
   "execution_count": 8,
   "metadata": {
    "collapsed": false,
    "deletable": true,
    "editable": true
   },
   "outputs": [
    {
     "data": {
      "text/plain": [
       "0    Annotation(0.75,1.25,'0')\n",
       "1    Annotation(1.25,1.25,'1')\n",
       "2    Annotation(1.25,0.75,'2')\n",
       "3    Annotation(0.75,0.75,'3')\n",
       "dtype: object"
      ]
     },
     "execution_count": 8,
     "metadata": {},
     "output_type": "execute_result"
    },
    {
     "data": {
      "image/png": "[encoded data removed]",
      "text/plain": [
       "<matplotlib.figure.Figure at 0x11f8b6fd0>"
      ]
     },
     "metadata": {},
     "output_type": "display_data"
    }
   ],
   "source": [
    "axes = grid.plot(color='white', figsize=(6, 6))\n",
    "intersection.plot(ax=axes, alpha=0.5)\n",
    "intersection.apply(\n",
    "    lambda x: axes.annotate(s=x['id'], xy=x.geometry.representative_point().coords[0], ha='center'), \n",
    "    axis=1\n",
    ")"
   ]
  },
  {
   "cell_type": "markdown",
   "metadata": {
    "deletable": true,
    "editable": true
   },
   "source": [
    "# Intersecting lines"
   ]
  },
  {
   "cell_type": "code",
   "execution_count": 9,
   "metadata": {
    "collapsed": false,
    "deletable": true,
    "editable": true
   },
   "outputs": [
    {
     "data": {
      "text/plain": [
       "<matplotlib.axes._subplots.AxesSubplot at 0x11f9579e8>"
      ]
     },
     "execution_count": 9,
     "metadata": {},
     "output_type": "execute_result"
    },
    {
     "data": {
      "image/png": "[encoded data removed]",
      "text/plain": [
       "<matplotlib.figure.Figure at 0x11f95af28>"
      ]
     },
     "metadata": {},
     "output_type": "display_data"
    }
   ],
   "source": [
    "axes = grid.plot(color='white', figsize=(6, 6))\n",
    "lines.plot(linewidth=5, ax=axes)"
   ]
  },
  {
   "cell_type": "code",
   "execution_count": 10,
   "metadata": {
    "collapsed": false,
    "deletable": true,
    "editable": true
   },
   "outputs": [
    {
     "data": {
      "text/plain": [
       "{'data': [['B', 'grid cell 2', 79583.2457341753],\n",
       "  ['A', 'grid cell 3', 50100.78363438923],\n",
       "  ['A', 'grid cell 1', 111917.50475663005],\n",
       "  ['A', 'grid cell 0', 61820.32883655653]],\n",
       " 'metadata': {'first': {'field': 'name',\n",
       "   'filename': 'lines.geojson',\n",
       "   'path': '/Users/cmutel/Code/pandarus/tests/data/lines.geojson',\n",
       "   'sha256': '919c92894521b82139d451a37ab4daecaa5a56b9ec9526a94a1dff0f1e200e5e'},\n",
       "  'second': {'field': 'name',\n",
       "   'filename': 'grid.geojson',\n",
       "   'path': '/Users/cmutel/Code/pandarus/tests/data/grid.geojson',\n",
       "   'sha256': '5f261833d583cf59067d2019bde4d024093e8755aa37ae3d966cc8f4e32da7a0'},\n",
       "  'when': '2017-03-22T10:21:03.912170'}}"
      ]
     },
     "execution_count": 10,
     "metadata": {},
     "output_type": "execute_result"
    }
   ],
   "source": [
    "spatial_result, json_data = intersect(\n",
    "    lines_fp, \n",
    "    'name',\n",
    "    grid_fp,\n",
    "    'name',\n",
    "    compress=False\n",
    ")\n",
    "json.load(open(json_data))"
   ]
  },
  {
   "cell_type": "code",
   "execution_count": 11,
   "metadata": {
    "collapsed": false,
    "deletable": true,
    "editable": true
   },
   "outputs": [
    {
     "data": {
      "text/html": [
       "<div>\n",
       "<table border=\"1\" class=\"dataframe\">\n",
       "  <thead>\n",
       "    <tr style=\"text-align: right;\">\n",
       "      <th></th>\n",
       "      <th>from_label</th>\n",
       "      <th>geometry</th>\n",
       "      <th>id</th>\n",
       "      <th>measure</th>\n",
       "      <th>to_label</th>\n",
       "    </tr>\n",
       "  </thead>\n",
       "  <tbody>\n",
       "    <tr>\n",
       "      <th>0</th>\n",
       "      <td>B</td>\n",
       "      <td>(LINESTRING (1 1, 1.5 0.5))</td>\n",
       "      <td>0</td>\n",
       "      <td>79583.245734</td>\n",
       "      <td>grid cell 2</td>\n",
       "    </tr>\n",
       "    <tr>\n",
       "      <th>1</th>\n",
       "      <td>A</td>\n",
       "      <td>(LINESTRING (1 1.5, 1.5 1.5))</td>\n",
       "      <td>1</td>\n",
       "      <td>50100.783634</td>\n",
       "      <td>grid cell 3</td>\n",
       "    </tr>\n",
       "    <tr>\n",
       "      <th>2</th>\n",
       "      <td>A</td>\n",
       "      <td>(LINESTRING (0.5 1, 0.5 1.5, 1 1.5))</td>\n",
       "      <td>2</td>\n",
       "      <td>111917.504757</td>\n",
       "      <td>grid cell 1</td>\n",
       "    </tr>\n",
       "    <tr>\n",
       "      <th>3</th>\n",
       "      <td>A</td>\n",
       "      <td>(LINESTRING (0.5 0.5, 0.5 1))</td>\n",
       "      <td>3</td>\n",
       "      <td>61820.328837</td>\n",
       "      <td>grid cell 0</td>\n",
       "    </tr>\n",
       "  </tbody>\n",
       "</table>\n",
       "</div>"
      ],
      "text/plain": [
       "  from_label                              geometry  id        measure  \\\n",
       "0          B           (LINESTRING (1 1, 1.5 0.5))   0   79583.245734   \n",
       "1          A         (LINESTRING (1 1.5, 1.5 1.5))   1   50100.783634   \n",
       "2          A  (LINESTRING (0.5 1, 0.5 1.5, 1 1.5))   2  111917.504757   \n",
       "3          A         (LINESTRING (0.5 0.5, 0.5 1))   3   61820.328837   \n",
       "\n",
       "      to_label  \n",
       "0  grid cell 2  \n",
       "1  grid cell 3  \n",
       "2  grid cell 1  \n",
       "3  grid cell 0  "
      ]
     },
     "execution_count": 11,
     "metadata": {},
     "output_type": "execute_result"
    }
   ],
   "source": [
    "intersection = gpd.read_file(spatial_result)\n",
    "intersection"
   ]
  },
  {
   "cell_type": "code",
   "execution_count": 12,
   "metadata": {
    "collapsed": false,
    "deletable": true,
    "editable": true
   },
   "outputs": [
    {
     "data": {
      "text/plain": [
       "0        Annotation(1,1,'0')\n",
       "1      Annotation(1,1.5,'1')\n",
       "2    Annotation(0.5,1.5,'2')\n",
       "3    Annotation(0.5,0.5,'3')\n",
       "dtype: object"
      ]
     },
     "execution_count": 12,
     "metadata": {},
     "output_type": "execute_result"
    },
    {
     "data": {
      "image/png": "[encoded data removed]",
      "text/plain": [
       "<matplotlib.figure.Figure at 0x11f7c8828>"
      ]
     },
     "metadata": {},
     "output_type": "display_data"
    }
   ],
   "source": [
    "axes = grid.plot(color='white', figsize=(6, 6))\n",
    "intersection.plot(linewidth=5, ax=axes)\n",
    "intersection.apply(\n",
    "    lambda x: axes.annotate(\n",
    "        s=x['id'], \n",
    "        xy=x.geometry.representative_point().coords[0], \n",
    "        size=25), \n",
    "    axis=1\n",
    ")"
   ]
  },
  {
   "cell_type": "code",
   "execution_count": 13,
   "metadata": {
    "collapsed": false,
    "deletable": true,
    "editable": true
   },
   "outputs": [
    {
     "data": {
      "text/html": [
       "<div>\n",
       "<table border=\"1\" class=\"dataframe\">\n",
       "  <thead>\n",
       "    <tr style=\"text-align: right;\">\n",
       "      <th></th>\n",
       "      <th>from_label</th>\n",
       "      <th>geometry</th>\n",
       "      <th>id</th>\n",
       "      <th>measure</th>\n",
       "      <th>to_label</th>\n",
       "    </tr>\n",
       "  </thead>\n",
       "  <tbody>\n",
       "    <tr>\n",
       "      <th>0</th>\n",
       "      <td>B</td>\n",
       "      <td>(LINESTRING (1 1, 1.5 0.5))</td>\n",
       "      <td>0</td>\n",
       "      <td>79583.245734</td>\n",
       "      <td>grid cell 2</td>\n",
       "    </tr>\n",
       "    <tr>\n",
       "      <th>1</th>\n",
       "      <td>A</td>\n",
       "      <td>(LINESTRING (1 1.5, 1.5 1.5))</td>\n",
       "      <td>1</td>\n",
       "      <td>50100.783634</td>\n",
       "      <td>grid cell 3</td>\n",
       "    </tr>\n",
       "    <tr>\n",
       "      <th>2</th>\n",
       "      <td>A</td>\n",
       "      <td>(LINESTRING (0.5 1, 0.5 1.5, 1 1.5))</td>\n",
       "      <td>2</td>\n",
       "      <td>111917.504757</td>\n",
       "      <td>grid cell 1</td>\n",
       "    </tr>\n",
       "    <tr>\n",
       "      <th>3</th>\n",
       "      <td>A</td>\n",
       "      <td>(LINESTRING (0.5 0.5, 0.5 1))</td>\n",
       "      <td>3</td>\n",
       "      <td>61820.328837</td>\n",
       "      <td>grid cell 0</td>\n",
       "    </tr>\n",
       "  </tbody>\n",
       "</table>\n",
       "</div>"
      ],
      "text/plain": [
       "  from_label                              geometry  id        measure  \\\n",
       "0          B           (LINESTRING (1 1, 1.5 0.5))   0   79583.245734   \n",
       "1          A         (LINESTRING (1 1.5, 1.5 1.5))   1   50100.783634   \n",
       "2          A  (LINESTRING (0.5 1, 0.5 1.5, 1 1.5))   2  111917.504757   \n",
       "3          A         (LINESTRING (0.5 0.5, 0.5 1))   3   61820.328837   \n",
       "\n",
       "      to_label  \n",
       "0  grid cell 2  \n",
       "1  grid cell 3  \n",
       "2  grid cell 1  \n",
       "3  grid cell 0  "
      ]
     },
     "execution_count": 13,
     "metadata": {},
     "output_type": "execute_result"
    }
   ],
   "source": [
    "intersection"
   ]
  },
  {
   "cell_type": "markdown",
   "metadata": {
    "deletable": true,
    "editable": true
   },
   "source": [
    "# Intersecting points"
   ]
  },
  {
   "cell_type": "code",
   "execution_count": 14,
   "metadata": {
    "collapsed": false,
    "deletable": true,
    "editable": true
   },
   "outputs": [
    {
     "data": {
      "text/plain": [
       "<matplotlib.axes._subplots.AxesSubplot at 0x11fbc2198>"
      ]
     },
     "execution_count": 14,
     "metadata": {},
     "output_type": "execute_result"
    },
    {
     "data": {
      "image/png": "[encoded data removed]",
      "text/plain": [
       "<matplotlib.figure.Figure at 0x11f74e208>"
      ]
     },
     "metadata": {},
     "output_type": "display_data"
    }
   ],
   "source": [
    "axes = grid.plot(color='white', figsize=(6, 6))\n",
    "points.plot(markersize=10, ax=axes)"
   ]
  },
  {
   "cell_type": "code",
   "execution_count": 15,
   "metadata": {
    "collapsed": false,
    "deletable": true,
    "editable": true
   },
   "outputs": [
    {
     "data": {
      "text/plain": [
       "{'data': [['point 2', 'grid cell 3', 1.0], ['point 1', 'grid cell 0', 1.0]],\n",
       " 'metadata': {'first': {'field': 'name',\n",
       "   'filename': 'points.geojson',\n",
       "   'path': '/Users/cmutel/Code/pandarus/tests/data/points.geojson',\n",
       "   'sha256': '45028ae742de714be4dfb9a18308f6fe45397470553a2d203be4ca0ce45b232b'},\n",
       "  'second': {'field': 'name',\n",
       "   'filename': 'grid.geojson',\n",
       "   'path': '/Users/cmutel/Code/pandarus/tests/data/grid.geojson',\n",
       "   'sha256': '5f261833d583cf59067d2019bde4d024093e8755aa37ae3d966cc8f4e32da7a0'},\n",
       "  'when': '2017-03-22T10:21:10.527163'}}"
      ]
     },
     "execution_count": 15,
     "metadata": {},
     "output_type": "execute_result"
    }
   ],
   "source": [
    "spatial_result, json_data = intersect(\n",
    "    points_fp, \n",
    "    'name',\n",
    "    grid_fp,\n",
    "    'name',\n",
    "    compress=False\n",
    ")\n",
    "json.load(open(json_data))"
   ]
  },
  {
   "cell_type": "code",
   "execution_count": 16,
   "metadata": {
    "collapsed": false,
    "deletable": true,
    "editable": true
   },
   "outputs": [
    {
     "data": {
      "text/html": [
       "<div>\n",
       "<table border=\"1\" class=\"dataframe\">\n",
       "  <thead>\n",
       "    <tr style=\"text-align: right;\">\n",
       "      <th></th>\n",
       "      <th>from_label</th>\n",
       "      <th>geometry</th>\n",
       "      <th>id</th>\n",
       "      <th>measure</th>\n",
       "      <th>to_label</th>\n",
       "    </tr>\n",
       "  </thead>\n",
       "  <tbody>\n",
       "    <tr>\n",
       "      <th>0</th>\n",
       "      <td>point 2</td>\n",
       "      <td>(POINT (1.5 1.5))</td>\n",
       "      <td>0</td>\n",
       "      <td>1.0</td>\n",
       "      <td>grid cell 3</td>\n",
       "    </tr>\n",
       "    <tr>\n",
       "      <th>1</th>\n",
       "      <td>point 1</td>\n",
       "      <td>(POINT (0.5 0.5))</td>\n",
       "      <td>1</td>\n",
       "      <td>1.0</td>\n",
       "      <td>grid cell 0</td>\n",
       "    </tr>\n",
       "  </tbody>\n",
       "</table>\n",
       "</div>"
      ],
      "text/plain": [
       "  from_label           geometry  id  measure     to_label\n",
       "0    point 2  (POINT (1.5 1.5))   0      1.0  grid cell 3\n",
       "1    point 1  (POINT (0.5 0.5))   1      1.0  grid cell 0"
      ]
     },
     "execution_count": 16,
     "metadata": {},
     "output_type": "execute_result"
    }
   ],
   "source": [
    "intersection = gpd.read_file(spatial_result)\n",
    "intersection"
   ]
  },
  {
   "cell_type": "markdown",
   "metadata": {
    "deletable": true,
    "editable": true
   },
   "source": [
    "# Getting raster statistics for polygons"
   ]
  },
  {
   "cell_type": "code",
   "execution_count": 17,
   "metadata": {
    "collapsed": false,
    "deletable": true,
    "editable": true
   },
   "outputs": [
    {
     "data": {
      "image/png": "[encoded data removed]",
      "text/plain": [
       "<matplotlib.figure.Figure at 0x11fcc6fd0>"
      ]
     },
     "metadata": {},
     "output_type": "display_data"
    }
   ],
   "source": [
    "ax = grid.plot(color='white', figsize=(6, 6))\n",
    "grid.apply(lambda x: ax.annotate(\n",
    "    s=x['name'], \n",
    "    xy=x.geometry.representative_point().coords[0], \n",
    "    ha='center',\n",
    "    size=16\n",
    "), axis=1)\n",
    "\n",
    "with rasterio.open(range_fp) as raster:\n",
    "    img = rp.show(raster, ax=ax)"
   ]
  },
  {
   "cell_type": "code",
   "execution_count": 18,
   "metadata": {
    "collapsed": false,
    "deletable": true,
    "editable": true
   },
   "outputs": [
    {
     "data": {
      "text/plain": [
       "{'data': [['grid cell 0',\n",
       "   {'count': 10.200000762939453,\n",
       "    'max': 47.0,\n",
       "    'mean': 38.32352828979492,\n",
       "    'min': 30.0}],\n",
       "  ['grid cell 1',\n",
       "   {'count': 10.199999809265137,\n",
       "    'max': 17.0,\n",
       "    'mean': 8.323529243469238,\n",
       "    'min': 0.0}],\n",
       "  ['grid cell 2',\n",
       "   {'count': 10.0, 'max': 49.0, 'mean': 40.70000076293945, 'min': 32.0}],\n",
       "  ['grid cell 3',\n",
       "   {'count': 10.0, 'max': 19.0, 'mean': 10.699999809265137, 'min': 2.0}]],\n",
       " 'metadata': {'raster': {'band': 1,\n",
       "   'filename': 'range.tif',\n",
       "   'path': '../tests/data/range.tif',\n",
       "   'sha256': '464f093dadc5e41612a8438dd04fc7f5d219dd1699eb58dd0e1fc2b9b827a5ee'},\n",
       "  'vector': {'field': 'name',\n",
       "   'filename': 'grid.geojson',\n",
       "   'path': '/Users/cmutel/Code/pandarus/tests/data/grid.geojson',\n",
       "   'sha256': '5f261833d583cf59067d2019bde4d024093e8755aa37ae3d966cc8f4e32da7a0'},\n",
       "  'when': '2017-03-22T10:21:14.421775'}}"
      ]
     },
     "execution_count": 18,
     "metadata": {},
     "output_type": "execute_result"
    }
   ],
   "source": [
    "json_data = raster_statistics(\n",
    "    grid_fp,\n",
    "    'name',\n",
    "    range_fp,\n",
    "    compress=False\n",
    ")\n",
    "rs_data = json.load(open(json_data))\n",
    "rs_data"
   ]
  },
  {
   "cell_type": "code",
   "execution_count": 19,
   "metadata": {
    "collapsed": false,
    "deletable": true,
    "editable": true
   },
   "outputs": [
    {
     "data": {
      "text/plain": [
       "0    Annotation(0.5,0.5,'38.3')\n",
       "1     Annotation(0.5,1.5,'8.3')\n",
       "2    Annotation(1.5,0.5,'40.7')\n",
       "3    Annotation(1.5,1.5,'10.7')\n",
       "dtype: object"
      ]
     },
     "execution_count": 19,
     "metadata": {},
     "output_type": "execute_result"
    },
    {
     "data": {
      "image/png": "[encoded data removed]",
      "text/plain": [
       "<matplotlib.figure.Figure at 0x11fe0e080>"
      ]
     },
     "metadata": {},
     "output_type": "display_data"
    }
   ],
   "source": [
    "merged = grid.merge(pd.DataFrame([(x, y['mean']) for x, y in rs_data['data']], columns=['name', 'value']))\n",
    "ax = merged.plot(column='value', figsize=(6, 6))\n",
    "merged.apply(lambda x: ax.annotate(\n",
    "    s=\"{:2.1f}\".format(x['value']),\n",
    "    xy=x.geometry.representative_point().coords[0], \n",
    "    ha='center',\n",
    "    size=20\n",
    "), axis=1)"
   ]
  },
  {
   "cell_type": "markdown",
   "metadata": {
    "deletable": true,
    "editable": true
   },
   "source": [
    "# Getting raster statistics for lines"
   ]
  },
  {
   "cell_type": "code",
   "execution_count": 20,
   "metadata": {
    "collapsed": false,
    "deletable": true,
    "editable": true
   },
   "outputs": [
    {
     "data": {
      "image/png": "[encoded data removed]",
      "text/plain": [
       "<matplotlib.figure.Figure at 0x11fcd3be0>"
      ]
     },
     "metadata": {},
     "output_type": "display_data"
    }
   ],
   "source": [
    "ax = lines.plot(color=\"black\", figsize=(6, 6))\n",
    "lines.apply(lambda x: ax.annotate(\n",
    "    s=x['name'], \n",
    "    xy=x.geometry.representative_point().coords[0], \n",
    "    ha='center',\n",
    "    size=16\n",
    "), axis=1)\n",
    "\n",
    "with rasterio.open(range_fp) as raster:\n",
    "    img = rp.show(raster, ax=ax, alpha=0.5)"
   ]
  },
  {
   "cell_type": "code",
   "execution_count": 21,
   "metadata": {
    "collapsed": false,
    "deletable": true,
    "editable": true
   },
   "outputs": [
    {
     "data": {
      "text/plain": [
       "{'data': [['A',\n",
       "   {'count': 0.2775000035762787,\n",
       "    'max': 36.0,\n",
       "    'mean': 18.450448989868164,\n",
       "    'min': 11.0}],\n",
       "  ['B',\n",
       "   {'count': 0.07500000298023224,\n",
       "    'max': 38.0,\n",
       "    'mean': 34.666664123535156,\n",
       "    'min': 33.0}]],\n",
       " 'metadata': {'raster': {'band': 1,\n",
       "   'filename': 'range.tif',\n",
       "   'path': '../tests/data/range.tif',\n",
       "   'sha256': '464f093dadc5e41612a8438dd04fc7f5d219dd1699eb58dd0e1fc2b9b827a5ee'},\n",
       "  'vector': {'field': 'name',\n",
       "   'filename': 'lines.geojson',\n",
       "   'path': '/Users/cmutel/Code/pandarus/tests/data/lines.geojson',\n",
       "   'sha256': '919c92894521b82139d451a37ab4daecaa5a56b9ec9526a94a1dff0f1e200e5e'},\n",
       "  'when': '2017-03-22T10:21:19.532824'}}"
      ]
     },
     "execution_count": 21,
     "metadata": {},
     "output_type": "execute_result"
    }
   ],
   "source": [
    "json_data = raster_statistics(\n",
    "    lines_fp, \n",
    "    'name',\n",
    "    range_fp,\n",
    "    compress=False\n",
    ")\n",
    "rs_data = json.load(open(json_data))\n",
    "rs_data"
   ]
  },
  {
   "cell_type": "code",
   "execution_count": 22,
   "metadata": {
    "collapsed": false,
    "deletable": true,
    "editable": true
   },
   "outputs": [
    {
     "data": {
      "text/plain": [
       "0    Annotation(0.5,1.5,'18.5')\n",
       "1        Annotation(1,1,'34.7')\n",
       "dtype: object"
      ]
     },
     "execution_count": 22,
     "metadata": {},
     "output_type": "execute_result"
    },
    {
     "data": {
      "image/png": "[encoded data removed]",
      "text/plain": [
       "<matplotlib.figure.Figure at 0x12037beb8>"
      ]
     },
     "metadata": {},
     "output_type": "display_data"
    }
   ],
   "source": [
    "merged = lines.merge(pd.DataFrame([(x, y['mean']) for x, y in rs_data['data']], columns=['name', 'value']))\n",
    "ax = merged.plot(column='value', figsize=(6, 6))\n",
    "merged.apply(lambda x: ax.annotate(\n",
    "    s=\"{:2.1f}\".format(x['value']),\n",
    "    xy=x.geometry.representative_point().coords[0], \n",
    "    va=\"center\",\n",
    "    size=20\n",
    "), axis=1)"
   ]
  },
  {
   "cell_type": "markdown",
   "metadata": {
    "deletable": true,
    "editable": true
   },
   "source": [
    "# Getting raster statistics for points"
   ]
  },
  {
   "cell_type": "code",
   "execution_count": 23,
   "metadata": {
    "collapsed": false,
    "deletable": true,
    "editable": true
   },
   "outputs": [
    {
     "data": {
      "image/png": "[encoded data removed]",
      "text/plain": [
       "<matplotlib.figure.Figure at 0x11fda7198>"
      ]
     },
     "metadata": {},
     "output_type": "display_data"
    }
   ],
   "source": [
    "ax = points.plot(color=\"black\", figsize=(6, 6), markersize=6)\n",
    "points.apply(lambda x: ax.annotate(\n",
    "    s=x['name'], \n",
    "    xy=x.geometry.representative_point().coords[0], \n",
    "    va='top',\n",
    "    size=16\n",
    "), axis=1)\n",
    "\n",
    "with rasterio.open(range_fp) as raster:\n",
    "    img = rp.show(raster, ax=ax, alpha=0.5)"
   ]
  },
  {
   "cell_type": "code",
   "execution_count": 24,
   "metadata": {
    "collapsed": false,
    "deletable": true,
    "editable": true
   },
   "outputs": [
    {
     "data": {
      "text/plain": [
       "{'data': [['point 1', {'count': 9, 'max': 42.0, 'mean': 36.0, 'min': 30.0}],\n",
       "  ['point 2', {'count': 9, 'max': 19.0, 'mean': 13.0, 'min': 7.0}]],\n",
       " 'metadata': {'raster': {'band': 1,\n",
       "   'filename': 'range.tif',\n",
       "   'path': '../tests/data/range.tif',\n",
       "   'sha256': '464f093dadc5e41612a8438dd04fc7f5d219dd1699eb58dd0e1fc2b9b827a5ee'},\n",
       "  'vector': {'field': 'name',\n",
       "   'filename': 'points.geojson',\n",
       "   'path': '/Users/cmutel/Code/pandarus/tests/data/points.geojson',\n",
       "   'sha256': '45028ae742de714be4dfb9a18308f6fe45397470553a2d203be4ca0ce45b232b'},\n",
       "  'when': '2017-03-22T10:21:23.639805'}}"
      ]
     },
     "execution_count": 24,
     "metadata": {},
     "output_type": "execute_result"
    }
   ],
   "source": [
    "json_data = raster_statistics(\n",
    "    points_fp, \n",
    "    'name',\n",
    "    range_fp,\n",
    "    compress=False\n",
    ")\n",
    "rs_data = json.load(open(json_data))\n",
    "rs_data"
   ]
  },
  {
   "cell_type": "code",
   "execution_count": 25,
   "metadata": {
    "collapsed": false,
    "deletable": true,
    "editable": true
   },
   "outputs": [
    {
     "data": {
      "image/png": "[encoded data removed]",
      "text/plain": [
       "<matplotlib.figure.Figure at 0x11fbaac88>"
      ]
     },
     "metadata": {},
     "output_type": "display_data"
    }
   ],
   "source": [
    "merged = points.merge(pd.DataFrame([(x, y['mean']) for x, y in rs_data['data']], columns=['name', 'value']))\n",
    "ax = merged.plot(column='value', figsize=(6, 6), color='black', markersize=6)\n",
    "merged.apply(lambda x: ax.annotate(\n",
    "    s=\"{:2.1f}\".format(x['value']),\n",
    "    xy=x.geometry.representative_point().coords[0], \n",
    "    va=\"top\",\n",
    "    size=20\n",
    "), axis=1)\n",
    "with rasterio.open(range_fp) as raster:\n",
    "    img = rp.show(raster, ax=ax, alpha=0.5)"
   ]
  },
  {
   "cell_type": "code",
   "execution_count": null,
   "metadata": {
    "collapsed": true,
    "deletable": true,
    "editable": true
   },
   "outputs": [],
   "source": []
  }
 ],
 "metadata": {
  "kernelspec": {
   "display_name": "Python 3",
   "language": "python",
   "name": "python3"
  },
  "language_info": {
   "codemirror_mode": {
    "name": "ipython",
    "version": 3
   },
   "file_extension": ".py",
   "mimetype": "text/x-python",
   "name": "python",
   "nbconvert_exporter": "python",
   "pygments_lexer": "ipython3",
   "version": "3.5.3"
  }
 },
 "nbformat": 4,
 "nbformat_minor": 2
}
